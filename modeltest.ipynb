{
 "cells": [
  {
   "cell_type": "code",
   "execution_count": 59,
   "metadata": {},
   "outputs": [],
   "source": [
    "from langchain import hub\n",
    "from langchain.text_splitter import RecursiveCharacterTextSplitter,CharacterTextSplitter\n",
    "from langchain_community.document_loaders import csv_loader,CSVLoader\n",
    "from langchain_community.vectorstores import Chroma,FAISS\n",
    "from langchain_core.output_parsers import StrOutputParser\n",
    "from langchain_core.runnables import RunnablePassthrough\n",
    "from langchain_openai import ChatOpenAI, OpenAIEmbeddings\n",
    "import pandas as pd\n",
    "import os\n",
    "from dotenv import load_dotenv"
   ]
  },
  {
   "cell_type": "code",
   "execution_count": 60,
   "metadata": {},
   "outputs": [],
   "source": [
    "from langchain.chains import RetrievalQA,ConversationalRetrievalChain"
   ]
  },
  {
   "cell_type": "code",
   "execution_count": 61,
   "metadata": {},
   "outputs": [
    {
     "data": {
      "text/plain": [
       "True"
      ]
     },
     "execution_count": 61,
     "metadata": {},
     "output_type": "execute_result"
    }
   ],
   "source": [
    "load_dotenv()"
   ]
  },
  {
   "cell_type": "code",
   "execution_count": 62,
   "metadata": {},
   "outputs": [
    {
     "data": {
      "text/plain": [
       "[Document(metadata={'source': 'pocdata.csv', 'row': 0}, page_content='Attributes: Config 1\\nContract Term: 1 Month\\nNo of Routers: 1.0\\nNo of Telephones: 8.0\\nBOT Service: 1.0\\nBusiness Attendent: 1.0\\nMonthly Recurring Charges: 10.0\\nNet Recurring Charges: 100.0'),\n",
       " Document(metadata={'source': 'pocdata.csv', 'row': 1}, page_content='Attributes: Config 2\\nContract Term: 1 Month\\nNo of Routers: 1.0\\nNo of Telephones: 8.0\\nBOT Service: 0.0\\nBusiness Attendent: 0.0\\nMonthly Recurring Charges: 10.0\\nNet Recurring Charges: 100.0'),\n",
       " Document(metadata={'source': 'pocdata.csv', 'row': 2}, page_content='Attributes: Config 3\\nContract Term: 1 Month\\nNo of Routers: 1.0\\nNo of Telephones: 8.0\\nBOT Service: 1.0\\nBusiness Attendent: 0.0\\nMonthly Recurring Charges: 15.0\\nNet Recurring Charges: 125.0'),\n",
       " Document(metadata={'source': 'pocdata.csv', 'row': 3}, page_content='Attributes: Config 4\\nContract Term: 1 Month\\nNo of Routers: 1.0\\nNo of Telephones: 8.0\\nBOT Service: 0.0\\nBusiness Attendent: 1.0\\nMonthly Recurring Charges: 10.0\\nNet Recurring Charges: 100.0'),\n",
       " Document(metadata={'source': 'pocdata.csv', 'row': 4}, page_content='Attributes: Config 5\\nContract Term: 1 Month\\nNo of Routers: 2.0\\nNo of Telephones: 9.0\\nBOT Service: 2.0\\nBusiness Attendent: 1.0\\nMonthly Recurring Charges: 10.0\\nNet Recurring Charges: 100.0'),\n",
       " Document(metadata={'source': 'pocdata.csv', 'row': 5}, page_content='Attributes: Config 6\\nContract Term: 1 Month\\nNo of Routers: 2.0\\nNo of Telephones: 9.0\\nBOT Service: 0.0\\nBusiness Attendent: 0.0\\nMonthly Recurring Charges: 15.0\\nNet Recurring Charges: 125.0'),\n",
       " Document(metadata={'source': 'pocdata.csv', 'row': 6}, page_content='Attributes: Config 7\\nContract Term: 1 Month\\nNo of Routers: 2.0\\nNo of Telephones: 9.0\\nBOT Service: 0.0\\nBusiness Attendent: 1.0\\nMonthly Recurring Charges: 10.0\\nNet Recurring Charges: 100.0'),\n",
       " Document(metadata={'source': 'pocdata.csv', 'row': 7}, page_content='Attributes: Config 8\\nContract Term: 24 month\\nNo of Routers: 1.0\\nNo of Telephones: 8.0\\nBOT Service: 1.0\\nBusiness Attendent: 1.0\\nMonthly Recurring Charges: 10.0\\nNet Recurring Charges: 100.0'),\n",
       " Document(metadata={'source': 'pocdata.csv', 'row': 8}, page_content='Attributes: Config 9\\nContract Term: 24 month\\nNo of Routers: 1.0\\nNo of Telephones: 8.0\\nBOT Service: 0.0\\nBusiness Attendent: 0.0\\nMonthly Recurring Charges: 15.0\\nNet Recurring Charges: 125.0'),\n",
       " Document(metadata={'source': 'pocdata.csv', 'row': 9}, page_content='Attributes: Config 10\\nContract Term: 24 month\\nNo of Routers: 1.0\\nNo of Telephones: 8.0\\nBOT Service: 1.0\\nBusiness Attendent: 0.0\\nMonthly Recurring Charges: 10.0\\nNet Recurring Charges: 100.0'),\n",
       " Document(metadata={'source': 'pocdata.csv', 'row': 10}, page_content='Attributes: Config 11\\nContract Term: 24 month\\nNo of Routers: 1.0\\nNo of Telephones: 8.0\\nBOT Service: 0.0\\nBusiness Attendent: 1.0\\nMonthly Recurring Charges: 10.0\\nNet Recurring Charges: 100.0'),\n",
       " Document(metadata={'source': 'pocdata.csv', 'row': 11}, page_content='Attributes: Config 12\\nContract Term: 24 month\\nNo of Routers: 2.0\\nNo of Telephones: 9.0\\nBOT Service: 2.0\\nBusiness Attendent: 1.0\\nMonthly Recurring Charges: 15.0\\nNet Recurring Charges: 125.0'),\n",
       " Document(metadata={'source': 'pocdata.csv', 'row': 12}, page_content='Attributes: Config 13\\nContract Term: 24 month\\nNo of Routers: 2.0\\nNo of Telephones: 9.0\\nBOT Service: 0.0\\nBusiness Attendent: 0.0\\nMonthly Recurring Charges: 10.0\\nNet Recurring Charges: 100.0'),\n",
       " Document(metadata={'source': 'pocdata.csv', 'row': 13}, page_content='Attributes: Config 14\\nContract Term: 24 month\\nNo of Routers: 2.0\\nNo of Telephones: 9.0\\nBOT Service: 0.0\\nBusiness Attendent: 1.0\\nMonthly Recurring Charges: 10.0\\nNet Recurring Charges: 100.0'),\n",
       " Document(metadata={'source': 'pocdata.csv', 'row': 14}, page_content='Attributes: Config 15\\nContract Term: 36 month\\nNo of Routers: 1.0\\nNo of Telephones: 8.0\\nBOT Service: 1.0\\nBusiness Attendent: 1.0\\nMonthly Recurring Charges: 15.0\\nNet Recurring Charges: 125.0'),\n",
       " Document(metadata={'source': 'pocdata.csv', 'row': 15}, page_content='Attributes: Config 16\\nContract Term: 36 month\\nNo of Routers: 1.0\\nNo of Telephones: 8.0\\nBOT Service: 0.0\\nBusiness Attendent: 0.0\\nMonthly Recurring Charges: 10.0\\nNet Recurring Charges: 100.0'),\n",
       " Document(metadata={'source': 'pocdata.csv', 'row': 16}, page_content='Attributes: Config 17\\nContract Term: 36 month\\nNo of Routers: 1.0\\nNo of Telephones: 8.0\\nBOT Service: 1.0\\nBusiness Attendent: 0.0\\nMonthly Recurring Charges: 10.0\\nNet Recurring Charges: 100.0'),\n",
       " Document(metadata={'source': 'pocdata.csv', 'row': 17}, page_content='Attributes: Config 18\\nContract Term: 36 month\\nNo of Routers: 1.0\\nNo of Telephones: 8.0\\nBOT Service: 0.0\\nBusiness Attendent: 1.0\\nMonthly Recurring Charges: 15.0\\nNet Recurring Charges: 125.0'),\n",
       " Document(metadata={'source': 'pocdata.csv', 'row': 18}, page_content='Attributes: Config 19\\nContract Term: 36 month\\nNo of Routers: 2.0\\nNo of Telephones: 9.0\\nBOT Service: 2.0\\nBusiness Attendent: 1.0\\nMonthly Recurring Charges: 10.0\\nNet Recurring Charges: 100.0'),\n",
       " Document(metadata={'source': 'pocdata.csv', 'row': 19}, page_content='Attributes: Config 20\\nContract Term: 36 month\\nNo of Routers: 2.0\\nNo of Telephones: 9.0\\nBOT Service: 0.0\\nBusiness Attendent: 0.0\\nMonthly Recurring Charges: 10.0\\nNet Recurring Charges: 100.0'),\n",
       " Document(metadata={'source': 'pocdata.csv', 'row': 20}, page_content='Attributes: Config 21\\nContract Term: 36 month\\nNo of Routers: 2.0\\nNo of Telephones: 9.0\\nBOT Service: 0.0\\nBusiness Attendent: 1.0\\nMonthly Recurring Charges: 15.0\\nNet Recurring Charges: 125.0')]"
      ]
     },
     "execution_count": 62,
     "metadata": {},
     "output_type": "execute_result"
    }
   ],
   "source": [
    "loader =CSVLoader(\"pocdata.csv\")\n",
    "doc=loader.load()\n",
    "doc"
   ]
  },
  {
   "cell_type": "code",
   "execution_count": 63,
   "metadata": {},
   "outputs": [],
   "source": [
    "text_splitter=CharacterTextSplitter(chunk_size=500, \n",
    "                                    chunk_overlap=0)\n",
    "texts=text_splitter.split_documents(doc)"
   ]
  },
  {
   "cell_type": "code",
   "execution_count": 64,
   "metadata": {},
   "outputs": [
    {
     "data": {
      "text/plain": [
       "[Document(metadata={'source': 'pocdata.csv', 'row': 0}, page_content='Attributes: Config 1\\nContract Term: 1 Month\\nNo of Routers: 1.0\\nNo of Telephones: 8.0\\nBOT Service: 1.0\\nBusiness Attendent: 1.0\\nMonthly Recurring Charges: 10.0\\nNet Recurring Charges: 100.0'),\n",
       " Document(metadata={'source': 'pocdata.csv', 'row': 1}, page_content='Attributes: Config 2\\nContract Term: 1 Month\\nNo of Routers: 1.0\\nNo of Telephones: 8.0\\nBOT Service: 0.0\\nBusiness Attendent: 0.0\\nMonthly Recurring Charges: 10.0\\nNet Recurring Charges: 100.0'),\n",
       " Document(metadata={'source': 'pocdata.csv', 'row': 2}, page_content='Attributes: Config 3\\nContract Term: 1 Month\\nNo of Routers: 1.0\\nNo of Telephones: 8.0\\nBOT Service: 1.0\\nBusiness Attendent: 0.0\\nMonthly Recurring Charges: 15.0\\nNet Recurring Charges: 125.0'),\n",
       " Document(metadata={'source': 'pocdata.csv', 'row': 3}, page_content='Attributes: Config 4\\nContract Term: 1 Month\\nNo of Routers: 1.0\\nNo of Telephones: 8.0\\nBOT Service: 0.0\\nBusiness Attendent: 1.0\\nMonthly Recurring Charges: 10.0\\nNet Recurring Charges: 100.0'),\n",
       " Document(metadata={'source': 'pocdata.csv', 'row': 4}, page_content='Attributes: Config 5\\nContract Term: 1 Month\\nNo of Routers: 2.0\\nNo of Telephones: 9.0\\nBOT Service: 2.0\\nBusiness Attendent: 1.0\\nMonthly Recurring Charges: 10.0\\nNet Recurring Charges: 100.0'),\n",
       " Document(metadata={'source': 'pocdata.csv', 'row': 5}, page_content='Attributes: Config 6\\nContract Term: 1 Month\\nNo of Routers: 2.0\\nNo of Telephones: 9.0\\nBOT Service: 0.0\\nBusiness Attendent: 0.0\\nMonthly Recurring Charges: 15.0\\nNet Recurring Charges: 125.0'),\n",
       " Document(metadata={'source': 'pocdata.csv', 'row': 6}, page_content='Attributes: Config 7\\nContract Term: 1 Month\\nNo of Routers: 2.0\\nNo of Telephones: 9.0\\nBOT Service: 0.0\\nBusiness Attendent: 1.0\\nMonthly Recurring Charges: 10.0\\nNet Recurring Charges: 100.0'),\n",
       " Document(metadata={'source': 'pocdata.csv', 'row': 7}, page_content='Attributes: Config 8\\nContract Term: 24 month\\nNo of Routers: 1.0\\nNo of Telephones: 8.0\\nBOT Service: 1.0\\nBusiness Attendent: 1.0\\nMonthly Recurring Charges: 10.0\\nNet Recurring Charges: 100.0'),\n",
       " Document(metadata={'source': 'pocdata.csv', 'row': 8}, page_content='Attributes: Config 9\\nContract Term: 24 month\\nNo of Routers: 1.0\\nNo of Telephones: 8.0\\nBOT Service: 0.0\\nBusiness Attendent: 0.0\\nMonthly Recurring Charges: 15.0\\nNet Recurring Charges: 125.0'),\n",
       " Document(metadata={'source': 'pocdata.csv', 'row': 9}, page_content='Attributes: Config 10\\nContract Term: 24 month\\nNo of Routers: 1.0\\nNo of Telephones: 8.0\\nBOT Service: 1.0\\nBusiness Attendent: 0.0\\nMonthly Recurring Charges: 10.0\\nNet Recurring Charges: 100.0'),\n",
       " Document(metadata={'source': 'pocdata.csv', 'row': 10}, page_content='Attributes: Config 11\\nContract Term: 24 month\\nNo of Routers: 1.0\\nNo of Telephones: 8.0\\nBOT Service: 0.0\\nBusiness Attendent: 1.0\\nMonthly Recurring Charges: 10.0\\nNet Recurring Charges: 100.0'),\n",
       " Document(metadata={'source': 'pocdata.csv', 'row': 11}, page_content='Attributes: Config 12\\nContract Term: 24 month\\nNo of Routers: 2.0\\nNo of Telephones: 9.0\\nBOT Service: 2.0\\nBusiness Attendent: 1.0\\nMonthly Recurring Charges: 15.0\\nNet Recurring Charges: 125.0'),\n",
       " Document(metadata={'source': 'pocdata.csv', 'row': 12}, page_content='Attributes: Config 13\\nContract Term: 24 month\\nNo of Routers: 2.0\\nNo of Telephones: 9.0\\nBOT Service: 0.0\\nBusiness Attendent: 0.0\\nMonthly Recurring Charges: 10.0\\nNet Recurring Charges: 100.0'),\n",
       " Document(metadata={'source': 'pocdata.csv', 'row': 13}, page_content='Attributes: Config 14\\nContract Term: 24 month\\nNo of Routers: 2.0\\nNo of Telephones: 9.0\\nBOT Service: 0.0\\nBusiness Attendent: 1.0\\nMonthly Recurring Charges: 10.0\\nNet Recurring Charges: 100.0'),\n",
       " Document(metadata={'source': 'pocdata.csv', 'row': 14}, page_content='Attributes: Config 15\\nContract Term: 36 month\\nNo of Routers: 1.0\\nNo of Telephones: 8.0\\nBOT Service: 1.0\\nBusiness Attendent: 1.0\\nMonthly Recurring Charges: 15.0\\nNet Recurring Charges: 125.0'),\n",
       " Document(metadata={'source': 'pocdata.csv', 'row': 15}, page_content='Attributes: Config 16\\nContract Term: 36 month\\nNo of Routers: 1.0\\nNo of Telephones: 8.0\\nBOT Service: 0.0\\nBusiness Attendent: 0.0\\nMonthly Recurring Charges: 10.0\\nNet Recurring Charges: 100.0'),\n",
       " Document(metadata={'source': 'pocdata.csv', 'row': 16}, page_content='Attributes: Config 17\\nContract Term: 36 month\\nNo of Routers: 1.0\\nNo of Telephones: 8.0\\nBOT Service: 1.0\\nBusiness Attendent: 0.0\\nMonthly Recurring Charges: 10.0\\nNet Recurring Charges: 100.0'),\n",
       " Document(metadata={'source': 'pocdata.csv', 'row': 17}, page_content='Attributes: Config 18\\nContract Term: 36 month\\nNo of Routers: 1.0\\nNo of Telephones: 8.0\\nBOT Service: 0.0\\nBusiness Attendent: 1.0\\nMonthly Recurring Charges: 15.0\\nNet Recurring Charges: 125.0'),\n",
       " Document(metadata={'source': 'pocdata.csv', 'row': 18}, page_content='Attributes: Config 19\\nContract Term: 36 month\\nNo of Routers: 2.0\\nNo of Telephones: 9.0\\nBOT Service: 2.0\\nBusiness Attendent: 1.0\\nMonthly Recurring Charges: 10.0\\nNet Recurring Charges: 100.0'),\n",
       " Document(metadata={'source': 'pocdata.csv', 'row': 19}, page_content='Attributes: Config 20\\nContract Term: 36 month\\nNo of Routers: 2.0\\nNo of Telephones: 9.0\\nBOT Service: 0.0\\nBusiness Attendent: 0.0\\nMonthly Recurring Charges: 10.0\\nNet Recurring Charges: 100.0'),\n",
       " Document(metadata={'source': 'pocdata.csv', 'row': 20}, page_content='Attributes: Config 21\\nContract Term: 36 month\\nNo of Routers: 2.0\\nNo of Telephones: 9.0\\nBOT Service: 0.0\\nBusiness Attendent: 1.0\\nMonthly Recurring Charges: 15.0\\nNet Recurring Charges: 125.0')]"
      ]
     },
     "execution_count": 64,
     "metadata": {},
     "output_type": "execute_result"
    }
   ],
   "source": [
    "texts"
   ]
  },
  {
   "cell_type": "code",
   "execution_count": 65,
   "metadata": {},
   "outputs": [],
   "source": [
    "llm =ChatOpenAI(model=\"gpt-3.5-turbo\",openai_api_key=os.getenv(\"OPENAI_API_KEY\"))"
   ]
  },
  {
   "cell_type": "code",
   "execution_count": 66,
   "metadata": {},
   "outputs": [],
   "source": [
    "embeddings=OpenAIEmbeddings()"
   ]
  },
  {
   "cell_type": "code",
   "execution_count": 67,
   "metadata": {},
   "outputs": [],
   "source": [
    "# from pinecone import Pinecone\n",
    "# Pinecone.init(api_key=os.getenv(\"PineconeAPI_KEY\"),environment=\"gcp-starter\")"
   ]
  },
  {
   "cell_type": "code",
   "execution_count": 68,
   "metadata": {},
   "outputs": [],
   "source": [
    "vectordb =Chroma.from_documents(texts,embedding=embeddings,persist_directory=\"C:/prpwork/01AT&TPOC/data\")"
   ]
  },
  {
   "cell_type": "code",
   "execution_count": 69,
   "metadata": {},
   "outputs": [],
   "source": [
    "vectordb.persist()"
   ]
  },
  {
   "cell_type": "code",
   "execution_count": 70,
   "metadata": {},
   "outputs": [],
   "source": [
    "retrivers =vectordb.as_retriever(search={'k':7})"
   ]
  },
  {
   "cell_type": "code",
   "execution_count": 58,
   "metadata": {},
   "outputs": [
    {
     "ename": "TypeError",
     "evalue": "'VectorStoreRetriever' object is not callable",
     "output_type": "error",
     "traceback": [
      "\u001b[1;31m---------------------------------------------------------------------------\u001b[0m",
      "\u001b[1;31mTypeError\u001b[0m                                 Traceback (most recent call last)",
      "Cell \u001b[1;32mIn[58], line 1\u001b[0m\n\u001b[1;32m----> 1\u001b[0m \u001b[43mretrivers\u001b[49m\u001b[43m(\u001b[49m\u001b[38;5;124;43m\"\u001b[39;49m\u001b[38;5;124;43m2 no of telephone\u001b[39;49m\u001b[38;5;124;43m\"\u001b[39;49m\u001b[43m)\u001b[49m\n",
      "\u001b[1;31mTypeError\u001b[0m: 'VectorStoreRetriever' object is not callable"
     ]
    }
   ],
   "source": [
    "retrivers.(\"2 no of telephone\")"
   ]
  },
  {
   "cell_type": "code",
   "execution_count": 37,
   "metadata": {},
   "outputs": [],
   "source": [
    "from langchain.prompts import PromptTemplate\n",
    "\n",
    "template = \"\"\"Answer the question in your own words as truthfully as possible from the context given to you.\n",
    "If you do not know the answer to the question, simply respond with \"I don't know. Can you ask another question\".\n",
    "If questions are asked where there is no relevant context available, simply respond with \"I don't know. Please ask a question relevant to the documents\"\n",
    "Context: {context}\n",
    "\n",
    "Human: {question}\n",
    "Assistant:\"\"\"\n",
    "\n",
    "prompt = PromptTemplate(\n",
    "    input_variables=[\"context\", \"question\"], template=template\n",
    ")\n",
    "\n",
    "# Create the custom chain\n",
    "if llm is not None and vectordb is not None:\n",
    "    chain = ConversationalRetrievalChain.from_llm(\n",
    "        llm=llm, retriever=vectordb.as_retriever(),\n",
    "        return_source_documents=True,\n",
    "        combine_docs_chain_kwargs={'prompt': prompt})"
   ]
  },
  {
   "cell_type": "code",
   "execution_count": 38,
   "metadata": {},
   "outputs": [],
   "source": [
    "if llm is not None and vectordb is not None:\n",
    "    chainqa = ConversationalRetrievalChain.from_llm(\n",
    "        llm=llm, retriever=vectordb.as_retriever(),\n",
    "        return_source_documents=True)"
   ]
  },
  {
   "cell_type": "code",
   "execution_count": 56,
   "metadata": {},
   "outputs": [],
   "source": [
    "def query_llm(retriever, query):\n",
    "    qa_chain = ConversationalRetrievalChain.from_llm(\n",
    "        llm=ChatOpenAI(openai_api_key=os.getenv(\"OPENAI_API_KEY\")),\n",
    "        retriever=retriever,\n",
    "        return_source_documents=True,\n",
    "    )\n",
    "    result = qa_chain({'question': query, 'chat_history': \"Telecom plan for 24 month\"})\n",
    "    result = result['answer']\n",
    "    # st.session_state.messages.append((query, result))\n",
    "    return result"
   ]
  },
  {
   "cell_type": "code",
   "execution_count": 57,
   "metadata": {},
   "outputs": [
    {
     "ename": "ValueError",
     "evalue": "Unsupported chat history format: <class 'str'>. Full chat history: Telecom plan for 24 month ",
     "output_type": "error",
     "traceback": [
      "\u001b[1;31m---------------------------------------------------------------------------\u001b[0m",
      "\u001b[1;31mValueError\u001b[0m                                Traceback (most recent call last)",
      "Cell \u001b[1;32mIn[57], line 1\u001b[0m\n\u001b[1;32m----> 1\u001b[0m res\u001b[38;5;241m=\u001b[39m\u001b[43mquery_llm\u001b[49m\u001b[43m(\u001b[49m\u001b[43mretrivers\u001b[49m\u001b[43m,\u001b[49m\u001b[38;5;124;43m\"\u001b[39;49m\u001b[38;5;124;43mTell me about telephone and broadban plan for 24 month\u001b[39;49m\u001b[38;5;124;43m\"\u001b[39;49m\u001b[43m)\u001b[49m\n",
      "Cell \u001b[1;32mIn[56], line 7\u001b[0m, in \u001b[0;36mquery_llm\u001b[1;34m(retriever, query)\u001b[0m\n\u001b[0;32m      1\u001b[0m \u001b[38;5;28;01mdef\u001b[39;00m \u001b[38;5;21mquery_llm\u001b[39m(retriever, query):\n\u001b[0;32m      2\u001b[0m     qa_chain \u001b[38;5;241m=\u001b[39m ConversationalRetrievalChain\u001b[38;5;241m.\u001b[39mfrom_llm(\n\u001b[0;32m      3\u001b[0m         llm\u001b[38;5;241m=\u001b[39mChatOpenAI(openai_api_key\u001b[38;5;241m=\u001b[39mos\u001b[38;5;241m.\u001b[39mgetenv(\u001b[38;5;124m\"\u001b[39m\u001b[38;5;124mOPENAI_API_KEY\u001b[39m\u001b[38;5;124m\"\u001b[39m)),\n\u001b[0;32m      4\u001b[0m         retriever\u001b[38;5;241m=\u001b[39mretriever,\n\u001b[0;32m      5\u001b[0m         return_source_documents\u001b[38;5;241m=\u001b[39m\u001b[38;5;28;01mTrue\u001b[39;00m,\n\u001b[0;32m      6\u001b[0m     )\n\u001b[1;32m----> 7\u001b[0m     result \u001b[38;5;241m=\u001b[39m \u001b[43mqa_chain\u001b[49m\u001b[43m(\u001b[49m\u001b[43m{\u001b[49m\u001b[38;5;124;43m'\u001b[39;49m\u001b[38;5;124;43mquestion\u001b[39;49m\u001b[38;5;124;43m'\u001b[39;49m\u001b[43m:\u001b[49m\u001b[43m \u001b[49m\u001b[43mquery\u001b[49m\u001b[43m,\u001b[49m\u001b[43m \u001b[49m\u001b[38;5;124;43m'\u001b[39;49m\u001b[38;5;124;43mchat_history\u001b[39;49m\u001b[38;5;124;43m'\u001b[39;49m\u001b[43m:\u001b[49m\u001b[43m \u001b[49m\u001b[38;5;124;43m\"\u001b[39;49m\u001b[38;5;124;43mTelecom plan for 24 month\u001b[39;49m\u001b[38;5;124;43m\"\u001b[39;49m\u001b[43m}\u001b[49m\u001b[43m)\u001b[49m\n\u001b[0;32m      8\u001b[0m     result \u001b[38;5;241m=\u001b[39m result[\u001b[38;5;124m'\u001b[39m\u001b[38;5;124manswer\u001b[39m\u001b[38;5;124m'\u001b[39m]\n\u001b[0;32m      9\u001b[0m     \u001b[38;5;66;03m# st.session_state.messages.append((query, result))\u001b[39;00m\n",
      "File \u001b[1;32mc:\\prpwork\\LLM\\AIML\\Lib\\site-packages\\langchain_core\\_api\\deprecation.py:168\u001b[0m, in \u001b[0;36mdeprecated.<locals>.deprecate.<locals>.warning_emitting_wrapper\u001b[1;34m(*args, **kwargs)\u001b[0m\n\u001b[0;32m    166\u001b[0m     warned \u001b[38;5;241m=\u001b[39m \u001b[38;5;28;01mTrue\u001b[39;00m\n\u001b[0;32m    167\u001b[0m     emit_warning()\n\u001b[1;32m--> 168\u001b[0m \u001b[38;5;28;01mreturn\u001b[39;00m \u001b[43mwrapped\u001b[49m\u001b[43m(\u001b[49m\u001b[38;5;241;43m*\u001b[39;49m\u001b[43margs\u001b[49m\u001b[43m,\u001b[49m\u001b[43m \u001b[49m\u001b[38;5;241;43m*\u001b[39;49m\u001b[38;5;241;43m*\u001b[39;49m\u001b[43mkwargs\u001b[49m\u001b[43m)\u001b[49m\n",
      "File \u001b[1;32mc:\\prpwork\\LLM\\AIML\\Lib\\site-packages\\langchain\\chains\\base.py:383\u001b[0m, in \u001b[0;36mChain.__call__\u001b[1;34m(self, inputs, return_only_outputs, callbacks, tags, metadata, run_name, include_run_info)\u001b[0m\n\u001b[0;32m    351\u001b[0m \u001b[38;5;250m\u001b[39m\u001b[38;5;124;03m\"\"\"Execute the chain.\u001b[39;00m\n\u001b[0;32m    352\u001b[0m \n\u001b[0;32m    353\u001b[0m \u001b[38;5;124;03mArgs:\u001b[39;00m\n\u001b[1;32m   (...)\u001b[0m\n\u001b[0;32m    374\u001b[0m \u001b[38;5;124;03m        `Chain.output_keys`.\u001b[39;00m\n\u001b[0;32m    375\u001b[0m \u001b[38;5;124;03m\"\"\"\u001b[39;00m\n\u001b[0;32m    376\u001b[0m config \u001b[38;5;241m=\u001b[39m {\n\u001b[0;32m    377\u001b[0m     \u001b[38;5;124m\"\u001b[39m\u001b[38;5;124mcallbacks\u001b[39m\u001b[38;5;124m\"\u001b[39m: callbacks,\n\u001b[0;32m    378\u001b[0m     \u001b[38;5;124m\"\u001b[39m\u001b[38;5;124mtags\u001b[39m\u001b[38;5;124m\"\u001b[39m: tags,\n\u001b[0;32m    379\u001b[0m     \u001b[38;5;124m\"\u001b[39m\u001b[38;5;124mmetadata\u001b[39m\u001b[38;5;124m\"\u001b[39m: metadata,\n\u001b[0;32m    380\u001b[0m     \u001b[38;5;124m\"\u001b[39m\u001b[38;5;124mrun_name\u001b[39m\u001b[38;5;124m\"\u001b[39m: run_name,\n\u001b[0;32m    381\u001b[0m }\n\u001b[1;32m--> 383\u001b[0m \u001b[38;5;28;01mreturn\u001b[39;00m \u001b[38;5;28;43mself\u001b[39;49m\u001b[38;5;241;43m.\u001b[39;49m\u001b[43minvoke\u001b[49m\u001b[43m(\u001b[49m\n\u001b[0;32m    384\u001b[0m \u001b[43m    \u001b[49m\u001b[43minputs\u001b[49m\u001b[43m,\u001b[49m\n\u001b[0;32m    385\u001b[0m \u001b[43m    \u001b[49m\u001b[43mcast\u001b[49m\u001b[43m(\u001b[49m\u001b[43mRunnableConfig\u001b[49m\u001b[43m,\u001b[49m\u001b[43m \u001b[49m\u001b[43m{\u001b[49m\u001b[43mk\u001b[49m\u001b[43m:\u001b[49m\u001b[43m \u001b[49m\u001b[43mv\u001b[49m\u001b[43m \u001b[49m\u001b[38;5;28;43;01mfor\u001b[39;49;00m\u001b[43m \u001b[49m\u001b[43mk\u001b[49m\u001b[43m,\u001b[49m\u001b[43m \u001b[49m\u001b[43mv\u001b[49m\u001b[43m \u001b[49m\u001b[38;5;129;43;01min\u001b[39;49;00m\u001b[43m \u001b[49m\u001b[43mconfig\u001b[49m\u001b[38;5;241;43m.\u001b[39;49m\u001b[43mitems\u001b[49m\u001b[43m(\u001b[49m\u001b[43m)\u001b[49m\u001b[43m \u001b[49m\u001b[38;5;28;43;01mif\u001b[39;49;00m\u001b[43m \u001b[49m\u001b[43mv\u001b[49m\u001b[43m \u001b[49m\u001b[38;5;129;43;01mis\u001b[39;49;00m\u001b[43m \u001b[49m\u001b[38;5;129;43;01mnot\u001b[39;49;00m\u001b[43m \u001b[49m\u001b[38;5;28;43;01mNone\u001b[39;49;00m\u001b[43m}\u001b[49m\u001b[43m)\u001b[49m\u001b[43m,\u001b[49m\n\u001b[0;32m    386\u001b[0m \u001b[43m    \u001b[49m\u001b[43mreturn_only_outputs\u001b[49m\u001b[38;5;241;43m=\u001b[39;49m\u001b[43mreturn_only_outputs\u001b[49m\u001b[43m,\u001b[49m\n\u001b[0;32m    387\u001b[0m \u001b[43m    \u001b[49m\u001b[43minclude_run_info\u001b[49m\u001b[38;5;241;43m=\u001b[39;49m\u001b[43minclude_run_info\u001b[49m\u001b[43m,\u001b[49m\n\u001b[0;32m    388\u001b[0m \u001b[43m\u001b[49m\u001b[43m)\u001b[49m\n",
      "File \u001b[1;32mc:\\prpwork\\LLM\\AIML\\Lib\\site-packages\\langchain\\chains\\base.py:166\u001b[0m, in \u001b[0;36mChain.invoke\u001b[1;34m(self, input, config, **kwargs)\u001b[0m\n\u001b[0;32m    164\u001b[0m \u001b[38;5;28;01mexcept\u001b[39;00m \u001b[38;5;167;01mBaseException\u001b[39;00m \u001b[38;5;28;01mas\u001b[39;00m e:\n\u001b[0;32m    165\u001b[0m     run_manager\u001b[38;5;241m.\u001b[39mon_chain_error(e)\n\u001b[1;32m--> 166\u001b[0m     \u001b[38;5;28;01mraise\u001b[39;00m e\n\u001b[0;32m    167\u001b[0m run_manager\u001b[38;5;241m.\u001b[39mon_chain_end(outputs)\n\u001b[0;32m    169\u001b[0m \u001b[38;5;28;01mif\u001b[39;00m include_run_info:\n",
      "File \u001b[1;32mc:\\prpwork\\LLM\\AIML\\Lib\\site-packages\\langchain\\chains\\base.py:156\u001b[0m, in \u001b[0;36mChain.invoke\u001b[1;34m(self, input, config, **kwargs)\u001b[0m\n\u001b[0;32m    153\u001b[0m \u001b[38;5;28;01mtry\u001b[39;00m:\n\u001b[0;32m    154\u001b[0m     \u001b[38;5;28mself\u001b[39m\u001b[38;5;241m.\u001b[39m_validate_inputs(inputs)\n\u001b[0;32m    155\u001b[0m     outputs \u001b[38;5;241m=\u001b[39m (\n\u001b[1;32m--> 156\u001b[0m         \u001b[38;5;28;43mself\u001b[39;49m\u001b[38;5;241;43m.\u001b[39;49m\u001b[43m_call\u001b[49m\u001b[43m(\u001b[49m\u001b[43minputs\u001b[49m\u001b[43m,\u001b[49m\u001b[43m \u001b[49m\u001b[43mrun_manager\u001b[49m\u001b[38;5;241;43m=\u001b[39;49m\u001b[43mrun_manager\u001b[49m\u001b[43m)\u001b[49m\n\u001b[0;32m    157\u001b[0m         \u001b[38;5;28;01mif\u001b[39;00m new_arg_supported\n\u001b[0;32m    158\u001b[0m         \u001b[38;5;28;01melse\u001b[39;00m \u001b[38;5;28mself\u001b[39m\u001b[38;5;241m.\u001b[39m_call(inputs)\n\u001b[0;32m    159\u001b[0m     )\n\u001b[0;32m    161\u001b[0m     final_outputs: Dict[\u001b[38;5;28mstr\u001b[39m, Any] \u001b[38;5;241m=\u001b[39m \u001b[38;5;28mself\u001b[39m\u001b[38;5;241m.\u001b[39mprep_outputs(\n\u001b[0;32m    162\u001b[0m         inputs, outputs, return_only_outputs\n\u001b[0;32m    163\u001b[0m     )\n\u001b[0;32m    164\u001b[0m \u001b[38;5;28;01mexcept\u001b[39;00m \u001b[38;5;167;01mBaseException\u001b[39;00m \u001b[38;5;28;01mas\u001b[39;00m e:\n",
      "File \u001b[1;32mc:\\prpwork\\LLM\\AIML\\Lib\\site-packages\\langchain\\chains\\conversational_retrieval\\base.py:143\u001b[0m, in \u001b[0;36mBaseConversationalRetrievalChain._call\u001b[1;34m(self, inputs, run_manager)\u001b[0m\n\u001b[0;32m    141\u001b[0m question \u001b[38;5;241m=\u001b[39m inputs[\u001b[38;5;124m\"\u001b[39m\u001b[38;5;124mquestion\u001b[39m\u001b[38;5;124m\"\u001b[39m]\n\u001b[0;32m    142\u001b[0m get_chat_history \u001b[38;5;241m=\u001b[39m \u001b[38;5;28mself\u001b[39m\u001b[38;5;241m.\u001b[39mget_chat_history \u001b[38;5;129;01mor\u001b[39;00m _get_chat_history\n\u001b[1;32m--> 143\u001b[0m chat_history_str \u001b[38;5;241m=\u001b[39m \u001b[43mget_chat_history\u001b[49m\u001b[43m(\u001b[49m\u001b[43minputs\u001b[49m\u001b[43m[\u001b[49m\u001b[38;5;124;43m\"\u001b[39;49m\u001b[38;5;124;43mchat_history\u001b[39;49m\u001b[38;5;124;43m\"\u001b[39;49m\u001b[43m]\u001b[49m\u001b[43m)\u001b[49m\n\u001b[0;32m    145\u001b[0m \u001b[38;5;28;01mif\u001b[39;00m chat_history_str:\n\u001b[0;32m    146\u001b[0m     callbacks \u001b[38;5;241m=\u001b[39m _run_manager\u001b[38;5;241m.\u001b[39mget_child()\n",
      "File \u001b[1;32mc:\\prpwork\\LLM\\AIML\\Lib\\site-packages\\langchain\\chains\\conversational_retrieval\\base.py:51\u001b[0m, in \u001b[0;36m_get_chat_history\u001b[1;34m(chat_history)\u001b[0m\n\u001b[0;32m     49\u001b[0m         buffer \u001b[38;5;241m+\u001b[39m\u001b[38;5;241m=\u001b[39m \u001b[38;5;124m\"\u001b[39m\u001b[38;5;130;01m\\n\u001b[39;00m\u001b[38;5;124m\"\u001b[39m \u001b[38;5;241m+\u001b[39m \u001b[38;5;124m\"\u001b[39m\u001b[38;5;130;01m\\n\u001b[39;00m\u001b[38;5;124m\"\u001b[39m\u001b[38;5;241m.\u001b[39mjoin([human, ai])\n\u001b[0;32m     50\u001b[0m     \u001b[38;5;28;01melse\u001b[39;00m:\n\u001b[1;32m---> 51\u001b[0m         \u001b[38;5;28;01mraise\u001b[39;00m \u001b[38;5;167;01mValueError\u001b[39;00m(\n\u001b[0;32m     52\u001b[0m             \u001b[38;5;124mf\u001b[39m\u001b[38;5;124m\"\u001b[39m\u001b[38;5;124mUnsupported chat history format: \u001b[39m\u001b[38;5;132;01m{\u001b[39;00m\u001b[38;5;28mtype\u001b[39m(dialogue_turn)\u001b[38;5;132;01m}\u001b[39;00m\u001b[38;5;124m.\u001b[39m\u001b[38;5;124m\"\u001b[39m\n\u001b[0;32m     53\u001b[0m             \u001b[38;5;124mf\u001b[39m\u001b[38;5;124m\"\u001b[39m\u001b[38;5;124m Full chat history: \u001b[39m\u001b[38;5;132;01m{\u001b[39;00mchat_history\u001b[38;5;132;01m}\u001b[39;00m\u001b[38;5;124m \u001b[39m\u001b[38;5;124m\"\u001b[39m\n\u001b[0;32m     54\u001b[0m         )\n\u001b[0;32m     55\u001b[0m \u001b[38;5;28;01mreturn\u001b[39;00m buffer\n",
      "\u001b[1;31mValueError\u001b[0m: Unsupported chat history format: <class 'str'>. Full chat history: Telecom plan for 24 month "
     ]
    }
   ],
   "source": [
    "res=query_llm(retrivers,\"Tell me about telephone and broadban plan for 24 month\")"
   ]
  },
  {
   "cell_type": "code",
   "execution_count": null,
   "metadata": {},
   "outputs": [],
   "source": []
  }
 ],
 "metadata": {
  "kernelspec": {
   "display_name": "AIML",
   "language": "python",
   "name": "python3"
  },
  "language_info": {
   "codemirror_mode": {
    "name": "ipython",
    "version": 3
   },
   "file_extension": ".py",
   "mimetype": "text/x-python",
   "name": "python",
   "nbconvert_exporter": "python",
   "pygments_lexer": "ipython3",
   "version": "3.12.4"
  }
 },
 "nbformat": 4,
 "nbformat_minor": 2
}
